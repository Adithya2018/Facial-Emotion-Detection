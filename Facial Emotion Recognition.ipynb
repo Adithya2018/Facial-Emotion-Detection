{
 "cells": [
  {
   "cell_type": "markdown",
   "id": "bf691620",
   "metadata": {},
   "source": [
    "# Group 17"
   ]
  },
  {
   "cell_type": "markdown",
   "id": "81032bab",
   "metadata": {},
   "source": [
    "# Facial Emotion Recognition"
   ]
  },
  {
   "cell_type": "markdown",
   "id": "cadc125d",
   "metadata": {},
   "source": [
    "# Project Phase 1"
   ]
  },
  {
   "cell_type": "markdown",
   "id": "bce088ae",
   "metadata": {},
   "source": [
    "## Data Preprocessing"
   ]
  },
  {
   "cell_type": "code",
   "execution_count": null,
   "id": "e7af5126",
   "metadata": {},
   "outputs": [],
   "source": []
  }
 ],
 "metadata": {
  "kernelspec": {
   "display_name": "Python 3",
   "language": "python",
   "name": "python3"
  },
  "language_info": {
   "codemirror_mode": {
    "name": "ipython",
    "version": 3
   },
   "file_extension": ".py",
   "mimetype": "text/x-python",
   "name": "python",
   "nbconvert_exporter": "python",
   "pygments_lexer": "ipython3",
   "version": "3.8.8"
  }
 },
 "nbformat": 4,
 "nbformat_minor": 5
}
